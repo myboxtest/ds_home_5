{
  "nbformat": 4,
  "nbformat_minor": 0,
  "metadata": {
    "colab": {
      "provenance": []
    },
    "kernelspec": {
      "name": "python3",
      "display_name": "Python 3"
    },
    "language_info": {
      "name": "python"
    }
  },
  "cells": [
    {
      "cell_type": "markdown",
      "source": [
        "# Домашнее задание: декораторы"
      ],
      "metadata": {
        "id": "QY4qPJPpgyIS"
      }
    },
    {
      "cell_type": "markdown",
      "source": [
        "## Импорт библиотек, установка констант"
      ],
      "metadata": {
        "id": "Chacc6YchldZ"
      }
    },
    {
      "cell_type": "code",
      "source": [
        "import requests\n",
        "import time\n",
        "import re\n",
        "\n",
        "from random import randint"
      ],
      "metadata": {
        "id": "w8iKrWvwhrFd"
      },
      "execution_count": 30,
      "outputs": []
    },
    {
      "cell_type": "code",
      "source": [
        "BOOK_PATH = 'https://www.gutenberg.org/files/2638/2638-0.txt'"
      ],
      "metadata": {
        "id": "-LRkS0fSi8Np"
      },
      "execution_count": 31,
      "outputs": []
    },
    {
      "cell_type": "markdown",
      "source": [
        "## Задание 1"
      ],
      "metadata": {
        "id": "kARfL8ifg4MH"
      }
    },
    {
      "cell_type": "code",
      "execution_count": 32,
      "metadata": {
        "id": "hNHNWPhngrUl"
      },
      "outputs": [],
      "source": [
        "def benchmark(func):\n",
        "    \"\"\"\n",
        "    Декоратор, выводящий время, которое заняло выполнение декорируемой функции\n",
        "    \"\"\"\n",
        "\n",
        "    def wrapper(*args, **kwargs):\n",
        "        start_time = time.time()  # Засекаем время до выполнения функции\n",
        "        result = func(*args, **kwargs)  # Выполняем функцию\n",
        "        end_time = time.time()  # Засекаем время после выполнения функции\n",
        "        elapsed_time = end_time - start_time  # Считаем разницу\n",
        "        print(f\"Время выполнения функции '{func.__name__}': {elapsed_time}\")\n",
        "        return result\n",
        "\n",
        "    return wrapper"
      ]
    },
    {
      "cell_type": "markdown",
      "source": [
        "## Задание 2"
      ],
      "metadata": {
        "id": "tGlbUKjihL5n"
      }
    },
    {
      "cell_type": "code",
      "source": [
        "def logging(func):\n",
        "    \"\"\"\n",
        "    Декоратор, который выводит параметры с которыми была вызвана функция\n",
        "    \"\"\"\n",
        "\n",
        "    def wrapper(*args, **kwargs):\n",
        "        print(f\"Функция '{func.__name__}' вызвана с параметрами:\")\n",
        "        print(f\"{args} {kwargs}\")\n",
        "        result = func(*args, **kwargs)  # Выполнение функции\n",
        "        return result\n",
        "\n",
        "    return wrapper"
      ],
      "metadata": {
        "id": "wugOZDLqhNe-"
      },
      "execution_count": 33,
      "outputs": []
    },
    {
      "cell_type": "markdown",
      "source": [
        "## Задание 3"
      ],
      "metadata": {
        "id": "Sq1tv5fshTfv"
      }
    },
    {
      "cell_type": "code",
      "source": [
        "def counter(func):\n",
        "    \"\"\"\n",
        "    Декоратор, считающий и выводящий количество вызовов декорируемой функции\n",
        "    \"\"\"\n",
        "\n",
        "    def wrapper(*args, **kwargs):\n",
        "        wrapper.call_count += 1  # Увеличиваем счётчик при каждом вызове\n",
        "        print(f\"Функция '{func.__name__}' была вызвана {wrapper.call_count} раз.\")\n",
        "        return func(*args, **kwargs)  # Выполняем декорируемую функцию\n",
        "\n",
        "    wrapper.call_count = 0  # Привязываем счётчик вызовов к функции-обёртке\n",
        "    return wrapper"
      ],
      "metadata": {
        "id": "9nyvuxXkhVeb"
      },
      "execution_count": 35,
      "outputs": []
    },
    {
      "cell_type": "markdown",
      "source": [
        "## Задание 4"
      ],
      "metadata": {
        "id": "uHn8Adfshz5q"
      }
    },
    {
      "cell_type": "code",
      "source": [
        "def memo(func):\n",
        "  \"\"\"\n",
        "  Декоратор, запоминающий результаты исполнения функции func, чьи аргументы args должны быть хешируемыми\n",
        "  \"\"\"\n",
        "  cache = {}\n",
        "  def fmemo(*args):\n",
        "      # Если результат для данных аргументов уже сохранён, возвращаем его\n",
        "      if args in cache:\n",
        "          print(f\"Используем кэш для {args}\")\n",
        "          return cache[args]\n",
        "      # Иначе вычисляем результат, сохраняем в кэш и возвращаем\n",
        "      result = func(*args)\n",
        "      cache[args] = result\n",
        "      print(f\"Рассчитан и сохранён результат для {args}\")\n",
        "      return result\n",
        "\n",
        "  fmemo.cache = cache  # Привязываем кэш к функции\n",
        "  return fmemo"
      ],
      "metadata": {
        "id": "R7uu6WtGifNX"
      },
      "execution_count": 51,
      "outputs": []
    },
    {
      "cell_type": "markdown",
      "source": [
        "## Тестирование"
      ],
      "metadata": {
        "id": "Zn5UQCa_izxo"
      }
    },
    {
      "cell_type": "code",
      "source": [
        "@counter\n",
        "@logging\n",
        "@benchmark\n",
        "def word_count(word, url=BOOK_PATH):\n",
        "    \"\"\"\n",
        "    Функция для посчета указанного слова на html-странице\n",
        "    \"\"\"\n",
        "\n",
        "    # отправляем запрос в библиотеку Gutenberg и забираем текст\n",
        "    raw = requests.get(url).text\n",
        "\n",
        "    # заменяем в тексте все небуквенные символы на пробелы\n",
        "    processed_book = re.sub('[\\W]+' , ' ', raw).lower()\n",
        "\n",
        "    # считаем\n",
        "    cnt = len(re.findall(word.lower(), processed_book))\n",
        "\n",
        "    return f\"Cлово {word} встречается {cnt} раз\"\n",
        "\n",
        "print(word_count('whole'))"
      ],
      "metadata": {
        "id": "CHCJ64I8i2QB",
        "colab": {
          "base_uri": "https://localhost:8080/"
        },
        "outputId": "08e84ae3-10b5-4be8-f3fc-498a38e87ca3"
      },
      "execution_count": 37,
      "outputs": [
        {
          "output_type": "stream",
          "name": "stdout",
          "text": [
            "Функция 'wrapper' была вызвана 1 раз.\n",
            "Функция 'wrapper' вызвана с параметрами:\n",
            "('whole',) {}\n",
            "Время выполнения функции 'word_count': 0.317124605178833\n",
            "Cлово whole встречается 176 раз\n"
          ]
        }
      ]
    },
    {
      "cell_type": "code",
      "source": [
        "def fib(n):\n",
        "    if n < 2:\n",
        "        return n\n",
        "    return fib(n-2) + fib(n-1)"
      ],
      "metadata": {
        "id": "ZE4Rfn-hh3k3"
      },
      "execution_count": 49,
      "outputs": []
    },
    {
      "cell_type": "code",
      "source": [
        "# измеряем время выполнения\n",
        "# декоратор @benchmark не используем, будет большой лог на каждый рекурсивный вызов\n",
        "start_time = time.time()  # Засекаем время до выполнения функции\n",
        "print(f\"Результат без хэширования: {fib(35)}\")\n",
        "end_time = time.time()  # Засекаем время после выполнения функции\n",
        "elapsed_time = end_time - start_time  # Считаем разницу\n",
        "print(f\"Время выполнения функции {elapsed_time}\")"
      ],
      "metadata": {
        "id": "Io94NyjiiXG4",
        "colab": {
          "base_uri": "https://localhost:8080/"
        },
        "outputId": "534e8b86-5377-4701-a21c-2c2dea5bf77f"
      },
      "execution_count": 50,
      "outputs": [
        {
          "output_type": "stream",
          "name": "stdout",
          "text": [
            "Результат без хэширования: 9227465\n",
            "Время выполнения функции 4.109407901763916\n"
          ]
        }
      ]
    },
    {
      "cell_type": "code",
      "source": [
        "@memo\n",
        "def fib(n):\n",
        "    if n < 2:\n",
        "        return n\n",
        "    return fib(n-2) + fib(n-1)"
      ],
      "metadata": {
        "id": "W9B3e-t9iTUj"
      },
      "execution_count": 47,
      "outputs": []
    },
    {
      "cell_type": "code",
      "source": [
        "# измеряем время выполнения\n",
        "# декоратор @benchmark не используем, будет большой лог на каждый рекурсивный вызов\n",
        "# также отключен вывод у декоратора @memo, чтобы ресурсы не уходили на вывод в консоль\n",
        "start_time = time.time()  # Засекаем время до выполнения функции\n",
        "print(f\"Результат с хэшированием: {fib(35)}\")\n",
        "end_time = time.time()  # Засекаем время после выполнения функции\n",
        "elapsed_time = end_time - start_time  # Считаем разницу\n",
        "print(f\"Функция Время выполнения функции {elapsed_time}\")"
      ],
      "metadata": {
        "id": "Sk6_4KQaidkh",
        "colab": {
          "base_uri": "https://localhost:8080/"
        },
        "outputId": "57476928-a05a-412d-8773-1b49ec1eb82f"
      },
      "execution_count": 48,
      "outputs": [
        {
          "output_type": "stream",
          "name": "stdout",
          "text": [
            "Результат с хэшированием: 9227465\n",
            "Функция Время выполнения функции 0.0010967254638671875\n"
          ]
        }
      ]
    },
    {
      "cell_type": "markdown",
      "source": [
        "**Время выполнения fib(35)**\n",
        "\n",
        "  без хэширования 4.109407901763916\n",
        "\n",
        "  с хэшированием  0.0010967254638671875"
      ],
      "metadata": {
        "id": "8jFb-JHayhbo"
      }
    }
  ]
}